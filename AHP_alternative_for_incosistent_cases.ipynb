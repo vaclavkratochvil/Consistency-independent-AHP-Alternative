{
  "cells": [
    {
      "cell_type": "markdown",
      "metadata": {
        "id": "view-in-github",
        "colab_type": "text"
      },
      "source": [
        "<a href=\"https://colab.research.google.com/github/vaclavkratochvil/Consistency-independent-AHP-Alternative/blob/main/AHP_alternative_for_incosistent_cases.ipynb\" target=\"_parent\"><img src=\"https://colab.research.google.com/assets/colab-badge.svg\" alt=\"Open In Colab\"/></a>"
      ]
    },
    {
      "cell_type": "markdown",
      "metadata": {
        "id": "-nInTIDedvmI"
      },
      "source": [
        "# Supplementary Material for **Multi-Criteria Decision Making Beyond Consistency: An Alternative to AHP for Real-World Industrial Problems**\n",
        "\n",
        "This Jupyter Notebook contains the supplementary material for the paper *Carpitella, Silvia, Václav Kratochvíl, and Miroslav Pištěk. \"Multi-criteria decision making beyond consistency: An alternative to AHP for real-world industrial problems.\" Computers & Industrial Engineering (2024): 110661. [https://doi.org/10.1016/j.cie.2024.110661](https://doi.org/10.1016/j.cie.2024.110661)*\n",
        "\n",
        "This document includes the source code and several examples demonstrating the usage and results discussed in the paper.\n",
        "\n",
        "\n",
        "**!! To run the code online, open it in [Google Colab](https://colab.research.google.com/github/vaclavkratochvil/AHP/blob/main/AHP_alternative_for_incosistent_cases.ipynb) !!**\n",
        "\n",
        "The paper generalizes concepts from our recent publication:\n",
        "> *Carpitella Silvia, Inuiguchi Masahiro, Kratochvíl Václav, Pištěk Miroslav :  Multi-criteria decision analysis without consistency in pairwise comparisons , Computers & Industrial Engineering vol.168, 2022. [10.1016/j.cie.2022.108089](https://doi.org/10.1016/j.cie.2022.108089)*\n",
        "\n",
        "\n",
        "\n"
      ]
    },
    {
      "cell_type": "code",
      "source": [
        "%pip install pycddlib-standalone"
      ],
      "metadata": {
        "collapsed": true,
        "id": "yQXVIlD0eZf7",
        "colab": {
          "base_uri": "https://localhost:8080/"
        },
        "outputId": "ff6d4bc7-31cd-4ab3-d74c-9947ff7ec0b6"
      },
      "execution_count": 6,
      "outputs": [
        {
          "output_type": "stream",
          "name": "stdout",
          "text": [
            "Collecting pycddlib-standalone\n",
            "  Downloading pycddlib_standalone-3.0.0.tar.gz (90 kB)\n",
            "\u001b[?25l     \u001b[90m━━━━━━━━━━━━━━━━━━━━━━━━━━━━━━━━━━━━━━━━\u001b[0m \u001b[32m0.0/91.0 kB\u001b[0m \u001b[31m?\u001b[0m eta \u001b[36m-:--:--\u001b[0m\r\u001b[2K     \u001b[91m━━━━━━━━━━━━━━━━━━━━━━━━━━━━━━━━━━━━\u001b[0m\u001b[90m╺\u001b[0m\u001b[90m━━━\u001b[0m \u001b[32m81.9/91.0 kB\u001b[0m \u001b[31m2.2 MB/s\u001b[0m eta \u001b[36m0:00:01\u001b[0m\r\u001b[2K     \u001b[90m━━━━━━━━━━━━━━━━━━━━━━━━━━━━━━━━━━━━━━━━\u001b[0m \u001b[32m91.0/91.0 kB\u001b[0m \u001b[31m1.6 MB/s\u001b[0m eta \u001b[36m0:00:00\u001b[0m\n",
            "\u001b[?25h  Installing build dependencies ... \u001b[?25l\u001b[?25hdone\n",
            "  Getting requirements to build wheel ... \u001b[?25l\u001b[?25hdone\n",
            "  Preparing metadata (pyproject.toml) ... \u001b[?25l\u001b[?25hdone\n",
            "Building wheels for collected packages: pycddlib-standalone\n",
            "  Building wheel for pycddlib-standalone (pyproject.toml) ... \u001b[?25l\u001b[?25hdone\n",
            "  Created wheel for pycddlib-standalone: filename=pycddlib_standalone-3.0.0-cp310-cp310-linux_x86_64.whl size=573728 sha256=cf301ef3d671fce35ed640b72ed75e50a15e754ce0344294131f91e3e67adc0c\n",
            "  Stored in directory: /root/.cache/pip/wheels/bc/95/a0/cac501ced7827a0d91cce9e487fc6ab564ff39e2b078cb5c70\n",
            "Successfully built pycddlib-standalone\n",
            "Installing collected packages: pycddlib-standalone\n",
            "Successfully installed pycddlib-standalone-3.0.0\n"
          ]
        }
      ]
    },
    {
      "cell_type": "markdown",
      "metadata": {
        "id": "FrbIskMVfBj0"
      },
      "source": [
        "## Aggregated Preference Matrix\n",
        "The aggregated preference matrix is a composite matrix derived from multiple pairwise comparison matrices (PCMs) and a vector of weights that signify the relative importance of each PCM. Each reciprocal PCM $R^{(i)}$ is weighted by $w_i$​ from the weight vector $w$. The aggregated preference matrix is computed using the element-wise geometric mean of the weighted PCMs, ensuring that the results remains reciprocal. This process is crucial for combining evaluations across different criteria or experts into a single, coherent PCM for decision-making. For a precise definition, see equation (3) in refered paper."
      ]
    },
    {
      "cell_type": "code",
      "execution_count": 4,
      "metadata": {
        "id": "YGMiO-yPf2xs"
      },
      "outputs": [],
      "source": [
        "import numpy as np\n",
        "\n",
        "def aggregated_preference_matrix(R_list, w):\n",
        "    \"\"\"\n",
        "    Compute the aggregated preference matrix using element-wise weighted geometric mean.\n",
        "\n",
        "    Parameters:\n",
        "    R_list (list of np.ndarray): List of pairwise comparison matrices as NumPy arrays.\n",
        "    w (np.ndarray): Weight vector.\n",
        "\n",
        "    Returns:\n",
        "    np.ndarray: Aggregated preference matrix.\n",
        "    \"\"\"\n",
        "    # Ensure the number of matrices matches the number of weights\n",
        "    if len(R_list) != len(w):\n",
        "        raise ValueError(\"The number of matrices and weights must be the same.\")\n",
        "\n",
        "    # Compute the element-wise weighted geometric mean\n",
        "    weighted_geom_mean = np.ones_like(R_list[0])\n",
        "    for matrix, weight in zip(R_list, w):\n",
        "        weighted_geom_mean *= np.power(matrix, weight)\n",
        "\n",
        "    return weighted_geom_mean\n",
        "\n",
        "# Define a helper function to print matrices or vectors with row and column names\n",
        "def print_named_matrix_or_vector(matrix_or_vector, row_names, col_names=None):\n",
        "    if col_names is None:  # It's a vector\n",
        "        # Determine the maximum length of the names for proper alignment\n",
        "        max_name_length = max(len(name) for name in row_names)\n",
        "\n",
        "        # Print the vector\n",
        "        for row_name, val in zip(row_names, matrix_or_vector):\n",
        "            print(f\"{row_name:>{max_name_length}}: {val:.4f}\")\n",
        "    else:  # It's a matrix\n",
        "        # Determine the maximum length of the names for proper alignment\n",
        "        max_name_length = max(max(len(name) for name in row_names), max(len(name) for name in col_names))\n",
        "\n",
        "        # Print the column headers\n",
        "        print(\" \" * (max_name_length + 1), end=\"\")\n",
        "        for name in col_names:\n",
        "            print(f\"{name:>{max_name_length}}\", end=\" \")\n",
        "        print()\n",
        "\n",
        "        # Print each row with its name\n",
        "        for row_name, row in zip(row_names, matrix_or_vector):\n",
        "            print(f\"{row_name:>{max_name_length}}\", end=\" \")\n",
        "            for val in row:\n",
        "                print(f\"{val:>{max_name_length}.4f}\", end=\" \")\n",
        "            print()\n",
        "        print()"
      ]
    },
    {
      "cell_type": "markdown",
      "metadata": {
        "id": "1UENOKgqgdn-"
      },
      "source": [
        "## The canonical weight vector\n",
        "The canonical weight vector is determined through a process that begins with a\n",
        "reciprocal pairwise comparison matrix (PCM). By taking the element-wise logarithm of the PCM, a skew-symmetric matrix is obtained. This matrix allows the formulation of a system of linear inequalities that identifies all maximal preferred elements based on the Subjective Stochastic Dominance (SSB) representation. Together, these elements form a **convex polyhedron**. It very often happens that a polyhedron degenerates to a single point. In many cases, the polyhedron degenerates into a single point. If not, to address any potential non-uniqueness among these elements, the optimal distribution of preference is defined as the unique maximal preferred element that maximizes entropy. This optimal distribution represents the most balanced and unbiased allocation of preferences.\n",
        "\n",
        "The canonical weight vector is then derived by taking the normalized inverse of the vector resulting from multiplying the transpose of the reciprocal PCM by the optimal distribution of preference. This vector reflects the relative scores of individual alternatives, ensuring a coherent and consistent representation of preferences. For a consistent PCM, the canonical weight vector aligns with the weight vector used in the Analytic Hierarchy Process (AHP). This approach ensures that the derived weight vector accurately represents the underlying preferences and priorities, even in the presence\n",
        "of inconsistencies within the PCM.\n",
        "\n"
      ]
    },
    {
      "cell_type": "markdown",
      "source": [
        "### Open problem\n",
        "\n",
        "In the following code, we provide two alternative methods to compute the aforementioned convex polyhedron. The first approach utilizes the [scipy](https://docs.scipy.org/doc/scipy/tutorial/optimize.html) package, which, while potentially more prone to numerical errors, supports optimization and allows us to directly obtain the max-entropic solution. The second approach employs the [cdd](https://pycddlib.readthedocs.io) package, which lacks direct support for optimization. Fortunately, as mentioned earlier, the polyhedron often collapses into a single point. The **cdd** package returns the **V-representation** of the polyhedron, i.e., its extreme vertices. If there is only one vertex, the polyhedron has collapsed into a single point. Otherwise, if the polyhedron is larger, the package cannot determine the max-entropic point.\n",
        "\n",
        "It is worth noting that identifying the most suitable representative point of the given polyhedron (when it is not degenerated into a single point) remains an **open problem**. In the case of `m_tilde_cdd()`, we use the geometric mean of the extreme vertices as an alternative representative.\n",
        "\n",
        "The functions are based on equations (4), (5), and (6) in the referenced paper."
      ],
      "metadata": {
        "id": "pfc2H-7QtiKU"
      }
    },
    {
      "cell_type": "code",
      "execution_count": 47,
      "metadata": {
        "id": "f5XNazWPUQ3o"
      },
      "outputs": [],
      "source": [
        "import numpy as np\n",
        "import cdd\n",
        "from scipy.optimize import minimize\n",
        "\n",
        "def m_tilde_cdd(X, representant = \"gmean\"):\n",
        "    \"\"\"\n",
        "    Identifies the set of optimal distribution of preferences within a given pairwise\n",
        "    comparison matrix X (a convex polyhedron) using the cddlib library.\n",
        "\n",
        "    The function constructs a convex polyhedron from X in H-representation\n",
        "    (half-space representation) and converts it to V-representation to obtain\n",
        "    the extreme points. The optimal distribution is obtained from a representant\n",
        "    of the given polyhedron.\n",
        "\n",
        "    Parameters:\n",
        "    X (numpy.ndarray): Pairwise comparison matrix with preferences.\n",
        "    representant (string): to determine which representant of the convex polyhedron will be returned\n",
        "      * \"gmean\" - geometric mean of extreme vertices\n",
        "      * \"amean\" - normalized arithmetic mean of extreme vertices\n",
        "      * \"\" - return all extreme vertices\n",
        ")\n",
        "\n",
        "    Returns:\n",
        "    numpy.ndarray: The optimal distribution of preferences maximizing entropy.\n",
        "    \"\"\"\n",
        "    #  Step 1: Create skew-symmetric matrix X by applying element-wise logarithm\n",
        "    num_vars = X.shape[1]\n",
        "\n",
        "    # Step 2: Create convex polyhedron in H-representation (half-space representation)\n",
        "    # 0 <= b1 + a1 * x\n",
        "    # 0 == b2 + a2 * x (for sum of probabilities constraint)\n",
        "\n",
        "    # Creating inequality constraints from X: a1 * x <= b1 (in this case, b1 = 0)\n",
        "    a1 = -X\n",
        "    b1 = np.zeros((num_vars, 1))\n",
        "\n",
        "    # Creating equality constraint: sum of preferences equal to 1\n",
        "    a2 = -np.ones((1, num_vars))\n",
        "    b2 = np.array([[1]])\n",
        "\n",
        "    # Creating inequality constraints: non-negativity of preferences\n",
        "    a3 = np.eye(num_vars)\n",
        "    b3 = np.zeros((num_vars, 1))\n",
        "\n",
        "    # Combine constraints for H-representation\n",
        "    h_matrix = np.vstack((np.hstack((b1, a1)), np.hstack((b2, a2)), np.hstack((b3, a3))))\n",
        "\n",
        "    # Convert to the required format for cddlib\n",
        "    M = cdd.matrix_from_array(h_matrix, lin_set = {num_vars}, rep_type=cdd.RepType.INEQUALITY)\n",
        "\n",
        "    # Convert H-representation to V-representation (vertices representation)\n",
        "    poly = cdd.polyhedron_from_matrix(M)\n",
        "    V = cdd.copy_generators(poly)\n",
        "\n",
        "    # Extract the extreme points of the polyhedron\n",
        "    vertices = np.array([v[1:] for v in V.array if v[0] == 1])\n",
        "\n",
        "    # The cdd package does not support polyhedron optimization. However, the resulting\n",
        "    # polyhedron often collapses into a single point. If the polyhedron is larger,\n",
        "    # i.e., represented by multiple extreme vertices, we use their geometric mean as an\n",
        "    # approximate representation of the entire polyhedron instead of the max-entropy point.\n",
        "    # This approach does not align with the definition provided in the referenced article.\n",
        "    # Determining the most suitable point from a given polyhedron remains an open problem.\n",
        "    if(representant == \"gmean\"):\n",
        "      return np.mean(vertices, axis=0)\n",
        "    if(representant == \"amean\"):\n",
        "      return np.sum(vertices, axis=0) / np.sum(vertices)\n",
        "    else:\n",
        "      return vertices\n",
        "\n",
        "def m_tilde_scipy(X):\n",
        "    \"\"\"\n",
        "    Identifies the optimal distribution of preferences within a given pairwise\n",
        "    comparison matrix X by maximizing entropy using the scipy library.\n",
        "\n",
        "    The function defines Shannon entropy as the objective function to maximize\n",
        "    and uses the scipy.optimize.minimize function to find the distribution\n",
        "    that maximizes entropy. It includes constraints to ensure the sum of\n",
        "    preferences equals one, preferences are non-negative, and follows\n",
        "    subjective stochastic dominance (SSB).\n",
        "\n",
        "    Parameters:\n",
        "    X (numpy.ndarray): Pairwise comparison matrix with preferences.\n",
        "\n",
        "    Returns:\n",
        "    numpy.ndarray: The optimal distribution of preferences maximizing entropy.\n",
        "    \"\"\"\n",
        "\n",
        "    # Shannon entropy as the objective function for minimization\n",
        "    def shannon_entropy_point(point):\n",
        "        probabilities = point / np.sum(point)\n",
        "        entropy = -np.sum(probabilities * np.log(probabilities + 1e-9))  # Adding a small number to avoid log(0)\n",
        "        return entropy\n",
        "\n",
        "    # Automatically generate an initial point using the Dirichlet distribution\n",
        "    def generate_initial_point(dimensions):\n",
        "        return np.random.dirichlet(np.ones(dimensions))\n",
        "\n",
        "    # Determine the number of dimensions from matrix X\n",
        "    num_dimensions = X.shape[1]\n",
        "\n",
        "    # Generate a valid initial point\n",
        "    initial_point = generate_initial_point(num_dimensions)\n",
        "\n",
        "    # Constraints for SSB maximal element\n",
        "    constraints = [\n",
        "        {'type': 'ineq', 'fun': lambda m: -np.dot(X, m)},  # Xm <= 0\n",
        "        {'type': 'eq', 'fun': lambda m: np.sum(m) - 1},    # m1 + m2 + m3 + ... = 1\n",
        "        {'type': 'ineq', 'fun': lambda m: m}               # m >= 0 (non-negative)\n",
        "    ]\n",
        "\n",
        "    # Find the maximum element (note the negative sign to maximize entropy)\n",
        "    result = minimize(lambda m: -shannon_entropy_point(m), initial_point, constraints=constraints, bounds=[(0, None)] * num_dimensions)\n",
        "\n",
        "    # Result\n",
        "    return result.x\n",
        "\n",
        "def kappa(R, method = \"scipy\"):\n",
        "    \"\"\"\n",
        "    Compute the canonical weight vector \\kappa(R) for reciprocal matrix R.\n",
        "\n",
        "    Parameters:\n",
        "    R (numpy.ndarray): Input reciprocal matrix.\n",
        "    method (string): cdd or scipy to determine which approach will be used\n",
        "\n",
        "    Returns:\n",
        "    numpy.ndarray: weight vector of preferences.\n",
        "    \"\"\"\n",
        "    # Step 1: Create SSB matrix X\n",
        "    X = np.log(R)\n",
        "\n",
        "    # Step 2: Find the minimum entropy point m_tilde - choose one of the methods\n",
        "    if(method == \"cdd\"):\n",
        "      m_tilde = m_tilde_cdd(X)\n",
        "    else:\n",
        "      m_tilde = m_tilde_scipy(X)\n",
        "\n",
        "    # Step 3: Calculate vector pi\n",
        "    pi = np.dot(R.T, m_tilde)\n",
        "\n",
        "    # Step 4: Normalize vector 1/pi\n",
        "    inv_pi = 1 / pi\n",
        "    normalized_inv_pi = inv_pi / np.sum(inv_pi)\n",
        "\n",
        "    return normalized_inv_pi"
      ]
    },
    {
      "cell_type": "markdown",
      "metadata": {
        "id": "Ce5irN1Vgb33"
      },
      "source": []
    },
    {
      "cell_type": "markdown",
      "metadata": {
        "id": "pSmUw9QOdkwI"
      },
      "source": [
        "## Consistency independent Decision Technique\n",
        "Given a multi-criteria decision-making problem encoded in AHP-like format. I.e Matrix $A$ represents the pairwise comparison matrix for the criteria relative to the goal. Each matrix in the list $B$ represents the pairwise comparison of alternatives with respect to each criterion.\n",
        "\n",
        "Our consistency independent technique is the following:\n",
        "1. Given reciprocal matrix $A$ we calculate the cannonical weight vector $\\kappa(A)$\n",
        "2. The obtained vector is used as a weight to aggregate matrices $B$ using the (weighted) geometric mean, thus obtaining aggregated preference matrix $B^{\\kappa(A)}$\n",
        "3. Such a matrix is again reciprocal, we may evaluate the vector of final weights $z_{CI}$ as $κ(B^{\\kappa(A)})$\n",
        "\n",
        "\n",
        "\n",
        "\n"
      ]
    },
    {
      "cell_type": "markdown",
      "metadata": {
        "id": "4u-GQgxRmGj0"
      },
      "source": [
        "## Leader example\n",
        "To demonstrate the typical problem, let's consider a decision-making scenario by [Wikipedia](https://w.wiki/AUJZ) involving three alternatives and four criteria. This can be exemplified using a scenario called \"Tom, Dick, and Harry,\" which is based on a real-world situation of selecting a new leader for a company facing the retirement of its founder. In this example, there are three potential candidates for the leadership role - **Tom**, **Dick**, and **Harry** - and they are assessed based on four different criteria: **Age**, **Charisma**, **Education**, and **Experience**. The problem involves comparing these criteria in pairs and recording the preferences in a matrix form.\n",
        "\n",
        "The example is discussed in **Section 4.3.1** in the referred paper.\n",
        "\n",
        "First, we will define the pairwise comparison matrices for Experience, Education, Charisma, and Age, as well as the criteria comparison matrix."
      ]
    },
    {
      "cell_type": "code",
      "execution_count": 11,
      "metadata": {
        "colab": {
          "base_uri": "https://localhost:8080/"
        },
        "id": "oUzz0FJUmeUv",
        "outputId": "4cb86774-5856-4d72-d02c-88bdb2d8bde7"
      },
      "outputs": [
        {
          "output_type": "stream",
          "name": "stdout",
          "text": [
            "Experience:\n",
            "        Tom  Dick Harry \n",
            "  Tom 1.0000 0.2500 4.0000 \n",
            " Dick 4.0000 1.0000 9.0000 \n",
            "Harry 0.2500 0.1111 1.0000 \n",
            "\n",
            "Education:\n",
            "        Tom  Dick Harry \n",
            "  Tom 1.0000 3.0000 0.2000 \n",
            " Dick 0.3333 1.0000 0.1429 \n",
            "Harry 5.0000 7.0000 1.0000 \n",
            "\n",
            "Charisma:\n",
            "        Tom  Dick Harry \n",
            "  Tom 1.0000 5.0000 9.0000 \n",
            " Dick 0.2000 1.0000 4.0000 \n",
            "Harry 0.1111 0.2500 1.0000 \n",
            "\n",
            "Age:\n",
            "        Tom  Dick Harry \n",
            "  Tom 1.0000 0.3333 5.0000 \n",
            " Dick 3.0000 1.0000 9.0000 \n",
            "Harry 0.2000 0.1111 1.0000 \n",
            "\n",
            "Criteria:\n",
            "           Experience  Education   Charisma        Age \n",
            "Experience     1.0000     4.0000     3.0000     7.0000 \n",
            " Education     0.2500     1.0000     0.3333     3.0000 \n",
            "  Charisma     0.3333     3.0000     1.0000     5.0000 \n",
            "       Age     0.1429     0.3333     0.2000     1.0000 \n",
            "\n"
          ]
        }
      ],
      "source": [
        "import numpy as np\n",
        "\n",
        "# Leader names\n",
        "leader_names = [\"Tom\", \"Dick\", \"Harry\"]\n",
        "\n",
        "# Pairwise comparison matrix for Experience\n",
        "experience = np.array([\n",
        "    [1, 1/4, 4],\n",
        "    [4, 1, 9],\n",
        "    [1/4, 1/9, 1]\n",
        "])\n",
        "print(\"Experience:\")\n",
        "print_named_matrix_or_vector(experience, leader_names, leader_names)\n",
        "\n",
        "# Pairwise comparison matrix for Education\n",
        "education = np.array([\n",
        "    [1, 3, 1/5],\n",
        "    [1/3, 1, 1/7],\n",
        "    [5, 7, 1]\n",
        "])\n",
        "print(\"Education:\")\n",
        "print_named_matrix_or_vector(education, leader_names, leader_names)\n",
        "\n",
        "# Pairwise comparison matrix for Charisma\n",
        "charisma = np.array([\n",
        "    [1, 5, 9],\n",
        "    [1/5, 1, 4],\n",
        "    [1/9, 1/4, 1]\n",
        "])\n",
        "print(\"Charisma:\")\n",
        "print_named_matrix_or_vector(charisma, leader_names, leader_names)\n",
        "\n",
        "# Pairwise comparison matrix for Age\n",
        "age = np.array([\n",
        "    [1, 1/3, 5],\n",
        "    [3, 1, 9],\n",
        "    [1/5, 1/9, 1]\n",
        "])\n",
        "print(\"Age:\")\n",
        "print_named_matrix_or_vector(age, leader_names, leader_names)\n",
        "\n",
        "# List of pairwise comparison matrices\n",
        "B_list = [experience, education, charisma, age]\n",
        "\n",
        "# Criteria comparison matrix\n",
        "criteria_names = [\"Experience\", \"Education\", \"Charisma\", \"Age\"]\n",
        "criteria = np.array([\n",
        "    [1, 4, 3, 7],\n",
        "    [1/4, 1, 1/3, 3],\n",
        "    [1/3, 3, 1, 5],\n",
        "    [1/7, 1/3, 1/5, 1]\n",
        "])\n",
        "print(\"Criteria:\")\n",
        "print_named_matrix_or_vector(criteria, criteria_names, criteria_names)"
      ]
    },
    {
      "cell_type": "markdown",
      "metadata": {
        "id": "M5KYUSKKnwoe"
      },
      "source": [
        "### Consistency-independent Decision Technique\n"
      ]
    },
    {
      "cell_type": "code",
      "execution_count": 12,
      "metadata": {
        "colab": {
          "base_uri": "https://localhost:8080/"
        },
        "id": "74zLnXJon70v",
        "outputId": "7f677c39-f391-4d5c-8d87-23ca1d3f7e2c"
      },
      "outputs": [
        {
          "output_type": "stream",
          "name": "stdout",
          "text": [
            "Aggregated Preference Matrix:\n",
            "        Tom  Dick Harry \n",
            "  Tom 1.0000 0.6543 3.0879 \n",
            " Dick 1.5282 1.0000 4.2232 \n",
            "Harry 0.3238 0.2368 1.0000 \n",
            "\n",
            "\n",
            "CI Ranking of Candidates:\n",
            "1. Dick with score: 0.5288\n",
            "2. Tom with score: 0.3460\n",
            "3. Harry with score: 0.1252\n"
          ]
        }
      ],
      "source": [
        "# Compute the cannonical weight vector for the criteria matrix using the kappa function\n",
        "criteria_weights = kappa(criteria)\n",
        "\n",
        "# Compute the aggregated preference matrix\n",
        "aggregated_matrix = aggregated_preference_matrix(B_list, criteria_weights)\n",
        "\n",
        "print(\"Aggregated Preference Matrix:\")\n",
        "print_named_matrix_or_vector(aggregated_matrix, leader_names, leader_names)\n",
        "\n",
        "# Compute the final weights using the kappa function\n",
        "final_weights = kappa(aggregated_matrix)\n",
        "\n",
        "# Rank the candidates based on their overall scores\n",
        "ranked_candidates = sorted(zip(leader_names, final_weights), key=lambda x: x[1], reverse=True)\n",
        "\n",
        "# Display the final rankings\n",
        "print(\"\\nCI Ranking of Candidates:\")\n",
        "for rank, (candidate, score) in enumerate(ranked_candidates, 1):\n",
        "    print(f\"{rank}. {candidate} with score: {score:.4f}\")"
      ]
    },
    {
      "cell_type": "markdown",
      "source": [
        "### AHP - comparison"
      ],
      "metadata": {
        "id": "f9SFjJXfN0hF"
      }
    },
    {
      "cell_type": "code",
      "source": [
        "import numpy as np\n",
        "\n",
        "# Function to convert matrix B into a weight vector\n",
        "def convertToWeights(B):\n",
        "    # Normalize the columns of matrix B\n",
        "    Bnorm = B / B.sum(axis=0)\n",
        "\n",
        "    # Return the mean of each row (average across columns)\n",
        "    return np.mean(Bnorm, axis=1)\n",
        "\n",
        "# lB2S: Convert a list of matrices (lB) into weight vectors by applying convertToWeights\n",
        "def lB2S(lB):\n",
        "    # Apply the convertToWeights function on each matrix in the list lB\n",
        "    return np.array([convertToWeights(B) for B in lB])\n",
        "\n",
        "# A2w: Calculate the weight vector from matrix A using eigenvectors\n",
        "def A2w(A):\n",
        "    # Compute eigenvalues and eigenvectors\n",
        "    eigenvalues, eigenvectors = np.linalg.eig(A)\n",
        "\n",
        "    # Take the absolute value of the first eigenvector\n",
        "    w = np.abs(eigenvectors[:, 0])\n",
        "\n",
        "    # Normalize the weight vector so that the sum is 1\n",
        "    w = w / np.sum(w)\n",
        "\n",
        "    # Return the weight vector\n",
        "    return w\n",
        "\n",
        "# solve_AHP: Main function for AHP that computes the result from matrix A and list of matrices lB\n",
        "def solve_AHP(A, lB, leader_names, criteria_names):\n",
        "    # Convert the list of matrices (lB) into a matrix of weights (S)\n",
        "    S = lB2S(lB)\n",
        "\n",
        "    # Calculate the weight vector from the criteria matrix A\n",
        "    w = A2w(A)\n",
        "\n",
        "    # Multiply matrix S by the weight vector w\n",
        "    v = np.dot(S.T, w)\n",
        "\n",
        "    return v"
      ],
      "metadata": {
        "id": "QrlmViVZPRtX"
      },
      "execution_count": 13,
      "outputs": []
    },
    {
      "cell_type": "code",
      "source": [
        "# Solve AHP using the criteria and the list of pairwise comparison matrices\n",
        "overall_scores = solve_AHP(criteria, B_list, leader_names, criteria_names)\n",
        "\n",
        "# Rank the candidates based on their overall scores\n",
        "ranked_candidates = sorted(zip(leader_names, overall_scores), key=lambda x: x[1], reverse=True)\n",
        "\n",
        "# Display the final rankings\n",
        "print(\"\\nAHP Ranking of Candidates:\")\n",
        "for rank, (candidate, score) in enumerate(ranked_candidates, 1):\n",
        "    print(f\"{rank}. {candidate} with score: {score:.4f}\")"
      ],
      "metadata": {
        "colab": {
          "base_uri": "https://localhost:8080/"
        },
        "id": "mowMc225l0s9",
        "outputId": "440c4c13-f0b8-4763-d4db-ede78a33284f"
      },
      "execution_count": 14,
      "outputs": [
        {
          "output_type": "stream",
          "name": "stdout",
          "text": [
            "\n",
            "AHP Ranking of Candidates:\n",
            "1. Dick with score: 0.4923\n",
            "2. Tom with score: 0.3583\n",
            "3. Harry with score: 0.1494\n"
          ]
        }
      ]
    },
    {
      "cell_type": "markdown",
      "metadata": {
        "id": "0101da58"
      },
      "source": [
        "###BWM (Best-Worst Method) - comparison\n",
        "Best-Worst Method (BWM) simplifies the process by requiring fewer comparisons than AHP. It asks the decision-maker to identify the best and worst criteria and compare them with others.\n",
        "\n",
        "**How it works:**\n",
        "\n",
        "*     You first select the best and worst criteria.\n",
        "*    Then, you compare the best criterion against all others, and similarly, the worst criterion against all others.\n",
        "*    A mathematical optimization problem is solved to derive the optimal weight vector that minimizes inconsistencies.\n"
      ]
    },
    {
      "cell_type": "code",
      "source": [
        "import numpy as np\n",
        "from scipy.optimize import linprog\n",
        "\n",
        "# Function to perform the Best-Worst Method (BWM)\n",
        "def best_worst_method(best_to_others, worst_to_others):\n",
        "    \"\"\"\n",
        "    Perform Best-Worst Method (BWM) calculation.\n",
        "\n",
        "    Parameters:\n",
        "    best_to_others (list): Comparison values of the best criterion against all others.\n",
        "    worst_to_others (list): Comparison values of all other criteria against the worst criterion.\n",
        "\n",
        "    Returns:\n",
        "    np.ndarray: The weight vector.\n",
        "    \"\"\"\n",
        "    n = len(best_to_others)\n",
        "\n",
        "    # Create the linear programming setup for solving BWM\n",
        "    c = [0] * n + [1]  # Objective function (minimize the maximum absolute deviation)\n",
        "    A_ub = []\n",
        "    b_ub = []\n",
        "\n",
        "    # Add constraints for best-to-others comparisons\n",
        "    for i in range(n):\n",
        "        row = [0] * n\n",
        "        row[i] = 1\n",
        "        row.append(-1)\n",
        "        A_ub.append(row)\n",
        "        b_ub.append(best_to_others[i])\n",
        "\n",
        "    # Add constraints for worst-to-others comparisons\n",
        "    for i in range(n):\n",
        "        row = [0] * n\n",
        "        row[i] = -1\n",
        "        row.append(-1)\n",
        "        A_ub.append(row)\n",
        "        b_ub.append(-worst_to_others[i])\n",
        "\n",
        "    # Bounds for the decision variables (weights must be non-negative)\n",
        "    bounds = [(0, None)] * n + [(None, None)]\n",
        "\n",
        "    # Solve using linear programming\n",
        "    res = linprog(c, A_ub=A_ub, b_ub=b_ub, bounds=bounds, method='highs')\n",
        "\n",
        "    # The weight vector is in the solution\n",
        "    return res.x[:-1] / np.sum(res.x[:-1])  # Normalize the weights\n",
        "\n",
        "# Function to compute the geometric mean of rows in a matrix (GMM)\n",
        "def geometric_mean_method(matrix):\n",
        "    \"\"\"\n",
        "    Compute the geometric mean of each row in the pairwise comparison matrix.\n",
        "\n",
        "    Parameters:\n",
        "    matrix (numpy.ndarray): The pairwise comparison matrix.\n",
        "\n",
        "    Returns:\n",
        "    numpy.ndarray: The normalized priority vector (weights for each candidate).\n",
        "    \"\"\"\n",
        "    geometric_mean = np.prod(matrix, axis=1) ** (1 / matrix.shape[1])\n",
        "    return geometric_mean / np.sum(geometric_mean)\n",
        "\n",
        "\n",
        "# Compute weights (priority vectors) for each criterion using Geometric Mean Method (GMM)\n",
        "experience_weights = geometric_mean_method(experience)\n",
        "education_weights = geometric_mean_method(education)\n",
        "charisma_weights = geometric_mean_method(charisma)\n",
        "age_weights = geometric_mean_method(age)\n",
        "\n",
        "# Combine the weights into a decision matrix (candidates x criteria)\n",
        "decision_matrix = np.column_stack([experience_weights, education_weights, charisma_weights, age_weights])\n",
        "\n",
        "# Identify the best and worst criteria based on the criteria weights\n",
        "best_criterion_index = np.argmax(criteria_weights)\n",
        "worst_criterion_index = np.argmin(criteria_weights)\n",
        "\n",
        "best_criterion = criteria[best_criterion_index]\n",
        "worst_criterion = criteria[:, worst_criterion_index]\n",
        "\n",
        "print(f\"\\nBest criterion: {criteria_names[best_criterion_index]}\")\n",
        "print(f\"Worst criterion: {criteria_names[worst_criterion_index]}\")\n",
        "\n",
        "# Perform BWM using the best-to-others and worst-to-others comparisons\n",
        "bwm_weights = best_worst_method(best_criterion, worst_criterion)\n",
        "\n",
        "# Apply the BWM weights to the candidates' decision matrix to compute final scores\n",
        "final_scores = np.dot(decision_matrix, bwm_weights)\n",
        "\n",
        "# Rank the candidates based on their final scores\n",
        "ranked_candidates = sorted(zip(leader_names, final_scores), key=lambda x: x[1], reverse=True)\n",
        "\n",
        "# Display the final rankings\n",
        "print(\"\\nFinal Ranking of Candidates (Using BWM):\")\n",
        "for rank, (candidate, score) in enumerate(ranked_candidates, 1):\n",
        "    print(f\"{rank}. {candidate} with score: {score:.4f}\")\n"
      ],
      "metadata": {
        "colab": {
          "base_uri": "https://localhost:8080/"
        },
        "id": "5LNAUGGFF7_n",
        "outputId": "eceae97e-efe1-463b-f74c-e39717f55ccc"
      },
      "execution_count": null,
      "outputs": [
        {
          "output_type": "stream",
          "name": "stdout",
          "text": [
            "\n",
            "Best criterion: Experience\n",
            "Worst criterion: Age\n",
            "\n",
            "Final Ranking of Candidates (Using BWM):\n",
            "1. Dick with score: 0.5427\n",
            "2. Tom with score: 0.3924\n",
            "3. Harry with score: 0.0649\n"
          ]
        }
      ]
    },
    {
      "cell_type": "markdown",
      "source": [
        "###TOPSIS (Technique for Order Preference by Similarity to Ideal Solution) - comparison\n",
        "\n",
        "TOPSIS is a widely used method for multi-criteria decision analysis (MCDA). It ranks alternatives based on the distance from an ideal solution and a negative-ideal solution.\n",
        "\n",
        "**How it works:**\n",
        "* You compute the distance of each alternative to an ideal best solution (which has the best performance in all criteria) and the distance to the ideal worst solution.\n",
        "* The alternative closest to the ideal best solution and farthest from the worst solution is ranked highest."
      ],
      "metadata": {
        "id": "s3tYkj9mF-XL"
      }
    },
    {
      "cell_type": "code",
      "source": [
        "import numpy as np\n",
        "\n",
        "# Define which criteria are benefit criteria (True for benefit, False for cost)\n",
        "benefit_criteria = [True, True, True, True]\n",
        "\n",
        "# Function to normalize the decision matrix\n",
        "def normalize_matrix(matrix):\n",
        "    norm = np.sqrt(np.sum(matrix ** 2, axis=0))\n",
        "    return matrix / norm\n",
        "\n",
        "# Function to perform TOPSIS\n",
        "def topsis(decision_matrix, weights, benefit_criteria):\n",
        "    normalized_matrix = normalize_matrix(decision_matrix)\n",
        "    weighted_matrix = normalized_matrix * weights\n",
        "    ideal_solution = np.max(weighted_matrix, axis=0)\n",
        "    anti_ideal_solution = np.min(weighted_matrix, axis=0)\n",
        "    distance_to_ideal = np.sqrt(np.sum((weighted_matrix - ideal_solution) ** 2, axis=1))\n",
        "    distance_to_anti_ideal = np.sqrt(np.sum((weighted_matrix - anti_ideal_solution) ** 2, axis=1))\n",
        "    relative_closeness = distance_to_anti_ideal / (distance_to_ideal + distance_to_anti_ideal)\n",
        "    return relative_closeness\n",
        "\n",
        "# Perform TOPSIS on the computed decision matrix\n",
        "topsis_scores = topsis(decision_matrix, criteria_weights, benefit_criteria)\n",
        "\n",
        "# Rank the candidates based on the TOPSIS scores\n",
        "ranked_candidates = sorted(zip(leader_names, topsis_scores), key=lambda x: x[1], reverse=True)\n",
        "\n",
        "# Display the final rankings\n",
        "print(\"\\nTOPSIS Ranking of Candidates:\")\n",
        "for rank, (candidate, score) in enumerate(ranked_candidates, 1):\n",
        "    print(f\"{rank}. {candidate} with score: {score:.4f}\")\n"
      ],
      "metadata": {
        "colab": {
          "base_uri": "https://localhost:8080/"
        },
        "id": "hpwZUf5PGnuB",
        "outputId": "89db82d4-444a-47c7-e6b6-7fb0b2f8829e"
      },
      "execution_count": null,
      "outputs": [
        {
          "output_type": "stream",
          "name": "stdout",
          "text": [
            "\n",
            "TOPSIS Ranking of Candidates:\n",
            "1. Dick with score: 0.7326\n",
            "2. Tom with score: 0.3421\n",
            "3. Harry with score: 0.1883\n"
          ]
        }
      ]
    },
    {
      "cell_type": "markdown",
      "source": [
        "### PROMETHEE (Preference Ranking Organization METHod for Enrichment Evaluations) - comparison\n",
        "\n",
        "How it works:\n",
        "* Preference Functions: PROMETHEE compares alternatives pairwise based on criteria, calculating a preference function for each pair of alternatives. A preference function $P(a,b)$ determines the degree to which alternative $a$ is preferred over alternative $b$ on a particular criterion.\n",
        "\n",
        "* Positive and Negative Preference Flows:\n",
        " * Positive flow ($\\phi+$): This represents how much an alternative outranks others.\n",
        " * Negative flow ($\\phi-$): This represents how much an alternative is outranked by others.\n",
        "\n",
        "* Net Flow Calculation: The net flow ($\\phi$) is the difference between the positive and negative flows for each alternative. It represents the overall ranking, where alternatives with higher net flows are preferred.\n",
        "\n",
        "* Ranking: The alternatives are ranked based on their net flow scores."
      ],
      "metadata": {
        "id": "VuLWSBfGK4OE"
      }
    },
    {
      "cell_type": "code",
      "source": [
        "import numpy as np\n",
        "\n",
        "# Function to calculate PROMETHEE positive and negative flows\n",
        "def promethee(decision_matrix, weights):\n",
        "    n = decision_matrix.shape[0]  # Number of alternatives\n",
        "    phi_plus = np.zeros(n)  # Positive flow (how much an alternative outranks others)\n",
        "    phi_minus = np.zeros(n)  # Negative flow (how much an alternative is outranked)\n",
        "\n",
        "    # Pairwise comparison of alternatives\n",
        "    for i in range(n):\n",
        "        for j in range(n):\n",
        "            if i != j:\n",
        "                phi_plus[i] += np.sum(weights * (decision_matrix[i, :] > decision_matrix[j, :]))\n",
        "                phi_minus[i] += np.sum(weights * (decision_matrix[i, :] < decision_matrix[j, :]))\n",
        "\n",
        "    # Net flow: Difference between positive and negative flows\n",
        "    phi = phi_plus - phi_minus\n",
        "    return phi\n",
        "\n",
        "# Perform PROMETHEE on the decision matrix\n",
        "promethee_scores = promethee(decision_matrix, criteria_weights)\n",
        "\n",
        "# Rank the candidates based on PROMETHEE scores\n",
        "ranked_candidates = sorted(zip(leader_names, promethee_scores), key=lambda x: x[1], reverse=True)\n",
        "\n",
        "# Display the final rankings\n",
        "print(\"\\nPROMETHEE Ranking of Candidates:\")\n",
        "for rank, (candidate, score) in enumerate(ranked_candidates, 1):\n",
        "    print(f\"{rank}. {candidate} with score: {score:.4f}\")\n"
      ],
      "metadata": {
        "colab": {
          "base_uri": "https://localhost:8080/"
        },
        "id": "AD20ICasLv59",
        "outputId": "0fcb2019-eb69-443a-901a-fd63988001a0"
      },
      "execution_count": null,
      "outputs": [
        {
          "output_type": "stream",
          "name": "stdout",
          "text": [
            "\n",
            "PROMETHEE Ranking of Candidates:\n",
            "1. Dick with score: 1.0345\n",
            "2. Tom with score: 0.3862\n",
            "3. Harry with score: -1.4207\n"
          ]
        }
      ]
    },
    {
      "cell_type": "markdown",
      "metadata": {
        "id": "R-dagHP4YsZr"
      },
      "source": [
        "## Car example\n",
        "The Jones family is in the market for a new vehicle. They have identified several criteria that are important to them in making their decision. These criteria include cost, safety, style, and capacity. Each criterion has specific subcriteria that further define the family's preferences.\n",
        "\n",
        "**Criteria and Subcriteria**\n",
        "* Cost:\n",
        "  * Purchase Price: The initial cost of buying the car.\n",
        "  * Maintenance Cost: The expected cost of maintaining the car.\n",
        "  * Fuel Cost: The fuel efficiency and expected fuel expenses.\n",
        "  * Resale Value: The estimated resale value of the car.\n",
        "\n",
        "* Safety:\n",
        "  The overall safety ratings and features of the car.\n",
        "\n",
        "* Style:\n",
        "  The aesthetic appeal and design of the car.\n",
        "\n",
        "* Capacity:\n",
        "  * Passenger Capacity: The number of passengers the car can comfortably accommodate.\n",
        "* Cargo Capacity: The amount of cargo space available in the car.\n",
        "\n",
        "**Alternatives:**\n",
        "The family is considering the following car models:\n",
        " Accord Hybrid Sedan, Accord Sedan, CR-V SUV, Element SUV, Odyssey Minivan, Pilot SUV\n",
        "\n",
        "See **Section 4.3.2** in the referred paper.\n"
      ]
    },
    {
      "cell_type": "markdown",
      "metadata": {
        "id": "ziuhiVLO-BWA"
      },
      "source": [
        " Cost subcriteria:"
      ]
    },
    {
      "cell_type": "code",
      "execution_count": null,
      "metadata": {
        "id": "-PPAptGv-E50"
      },
      "outputs": [],
      "source": [
        "import numpy as np\n",
        "\n",
        "# Car names\n",
        "car_names = [\"Accord Hybrid\", \"Accord Sedan\", \"CR-V\", \"Element\", \"Odyssey\", \"Pilot\"]\n",
        "\n",
        "# Purchase Price Matrix\n",
        "purchase_price = np.array([\n",
        "    [1, 1/9, 1/9, 1/9, 1/7, 1],\n",
        "    [9, 1, 1, 1/2, 5, 9],\n",
        "    [9, 1, 1, 1/2, 5, 9],\n",
        "    [9, 2, 2, 1, 6, 9],\n",
        "    [7, 1/5, 1/5, 1/6, 1, 7],\n",
        "    [1, 1/9, 1/9, 1/9, 1/7, 1]\n",
        "])\n",
        "\n",
        "# Maintenance Cost Matrix\n",
        "maintenance_cost = np.array([\n",
        "    [1, 2/3, 4, 4, 5, 4],\n",
        "    [3/2, 1, 4, 4, 5, 4],\n",
        "    [1/4, 1/4, 1, 1, 3, 1],\n",
        "    [1/4, 1/4, 1, 1, 2, 5/6],\n",
        "    [1/5, 1/5, 1/3, 1/2, 1, 1],\n",
        "    [1/4, 1/4, 1, 1.2, 1, 1]\n",
        "])\n",
        "\n",
        "# Resale Value Matrix\n",
        "resale_value = np.array([\n",
        "    [1, 1/3, 1/5, 1, 1, 2],\n",
        "    [3, 1, 1/2, 2, 2, 4],\n",
        "    [5, 2, 1, 4, 4, 6],\n",
        "    [1, 2, 4, 1, 1, 2],\n",
        "    [1, 2, 4, 1, 1, 2],\n",
        "    [2, 4, 6, 2, 2, 1]\n",
        "])\n",
        "\n",
        "# Fuel Cost Matrix\n",
        "fuel_cost = np.array([\n",
        "    [1, 113/100, 13/10, 14/10, 135/100, 159/100],\n",
        "    [100/113, 1, 23/20, 31/25, 119/100, 141/100],\n",
        "    [10/13, 20/23, 1, 27/25, 26/25, 123/100],\n",
        "    [5/7, 25/31, 25/27, 1, 25/26, 57/50],\n",
        "    [20/27, 100/119, 25/26, 26/25, 1, 59/50],\n",
        "    [100/159, 100/141, 100/123, 50/57, 50/59, 1]\n",
        "])\n",
        "\n",
        "# Cost Criteria Matrix\n",
        "cost_criteria = np.array([\n",
        "    [1, 2, 1/2, 2],\n",
        "    [1/2, 1, 1/5, 1/2],\n",
        "    [2, 5, 1, 3],\n",
        "    [1/2, 2, 1/3, 1]\n",
        "])"
      ]
    },
    {
      "cell_type": "markdown",
      "metadata": {
        "id": "fAVzG6gU-N_h"
      },
      "source": [
        "Capacity subcriteria:"
      ]
    },
    {
      "cell_type": "code",
      "execution_count": null,
      "metadata": {
        "id": "WI1HNLEv-TG-"
      },
      "outputs": [],
      "source": [
        "# Passenger Capacity Matrix\n",
        "passenger_capacity = np.array([\n",
        "    [1, 1, 5, 9, 6, 7],\n",
        "    [1, 1, 5, 9, 6, 7],\n",
        "    [1/5, 1/5, 1, 7, 5, 6],\n",
        "    [1/9, 1/9, 1/7, 1, 1/5, 1/3],\n",
        "    [1/6, 1/6, 1/5, 5, 1, 3],\n",
        "    [1/7, 1/7, 1/6, 1/3, 1/3, 1]\n",
        "])\n",
        "\n",
        "# Cargo Capacity Matrix\n",
        "cargo_capacity = np.array([\n",
        "    [1, 1, 1/2, 1/2, 1/3, 1/2],\n",
        "    [1, 1, 1/2, 1/2, 1/3, 1/2],\n",
        "    [2, 2, 1, 1, 1/2, 1],\n",
        "    [2, 2, 1, 1, 1/2, 1],\n",
        "    [3, 3, 2, 2, 1, 2],\n",
        "    [2, 2, 1, 1, 1/2, 1]\n",
        "])\n",
        "\n",
        "# Capacity Criteria Matrix\n",
        "capacity_criteria = np.array([\n",
        "    [1, 1/5],\n",
        "    [5, 1]\n",
        "])"
      ]
    },
    {
      "cell_type": "markdown",
      "metadata": {
        "id": "PYvr8xC1-ZlH"
      },
      "source": [
        "Other Criteria Matrices:"
      ]
    },
    {
      "cell_type": "code",
      "execution_count": null,
      "metadata": {
        "id": "4DgD-GSX-d2L"
      },
      "outputs": [],
      "source": [
        "# Safety Matrix\n",
        "safety = np.array([\n",
        "    [1, 1, 7, 9, 1/3, 5],\n",
        "    [1, 1, 7, 9, 1/3, 5],\n",
        "    [1/7, 1/7, 1, 2, 1/8, 1/2],\n",
        "    [1/9, 1/9, 1/2, 1, 1/9, 1/9],\n",
        "    [3, 3, 8, 9, 1, 8],\n",
        "    [1/5, 1/5, 1/2, 1, 1/8, 1]\n",
        "])\n",
        "\n",
        "# Style Matrix\n",
        "style = np.array([\n",
        "    [1, 1, 5, 9, 6, 7],\n",
        "    [1, 1, 5, 9, 6, 7],\n",
        "    [1/5, 1/5, 1, 7, 5, 6],\n",
        "    [1/9, 1/9, 1/7, 1, 1/5, 1/3],\n",
        "    [1/6, 1/6, 1/5, 5, 1, 3],\n",
        "    [1/7, 1/7, 1/6, 1/3, 1/3, 1]\n",
        "])\n",
        "\n",
        "# Criteria Comparison Matrix\n",
        "# in the following ordering: capacity, cost, safety, style\n",
        "criteria = np.array([\n",
        "    [1, 1/3, 1, 7],\n",
        "    [3, 1, 3, 7],\n",
        "    [1, 1/3, 1, 9],\n",
        "    [1/7, 1/7, 1/9, 1]\n",
        "])"
      ]
    },
    {
      "cell_type": "markdown",
      "metadata": {
        "id": "lOnBjXVW-iSm"
      },
      "source": [
        "Step-by-Step Solution:\n",
        "\n",
        " * **Subproblem 1: Cost Sub-Criteria Aggregation**\n",
        "  Compute the aggregated preference matrix `cost` for the cost sub-criteria (Purchase Price, Maintenance Cost, Resale Value, Fuel Cost).\n",
        "\n",
        "* **Subproblem 2: Capacity Sub-Criteria Aggregation**\n",
        "  Compute the aggregated preference matrix `capacity` for the capacity sub-criteria (Passenger Capacity, Cargo Capacity).\n",
        "\n",
        "* **Aggregate Main Criteria Matrices**\n",
        "  Use the aggregated preference matrices from the subproblems as inputs for the main criteria (`cost, capacity, safety, style`)."
      ]
    },
    {
      "cell_type": "code",
      "execution_count": null,
      "metadata": {
        "colab": {
          "base_uri": "https://localhost:8080/"
        },
        "id": "WaNcKbimapUH",
        "outputId": "d613e165-e2f0-4500-9efa-be5d11c386f1",
        "collapsed": true
      },
      "outputs": [
        {
          "output_type": "stream",
          "name": "stdout",
          "text": [
            "Cost subproblem - aggregated matrix:\n",
            "              Accord Hybrid  Accord Sedan          CR-V       Element       Odyssey         Pilot \n",
            "Accord Hybrid        1.0000        0.3327        0.3159        0.7055        0.7626        1.7389 \n",
            " Accord Sedan        3.0055        1.0000        0.8339        1.4079        2.5180        4.1155 \n",
            "         CR-V        3.1660        1.1992        1.0000        1.6887        3.2938        4.2863 \n",
            "      Element        1.4173        1.4046        2.3155        1.0000        1.6526        2.4224 \n",
            "      Odyssey        1.3113        0.7853        1.1871        0.6051        1.0000        2.3315 \n",
            "        Pilot        1.1371        0.9501        1.3593        0.8163        0.8481        1.0000 \n",
            "\n",
            "Capacity subproblem - aggregated matrix:\n",
            "              Accord Hybrid  Accord Sedan          CR-V       Element       Odyssey         Pilot \n",
            "Accord Hybrid        1.0000        1.0000        0.7339        0.8094        0.5396        0.7762 \n",
            " Accord Sedan        1.0000        1.0000        0.7339        0.8094        0.5396        0.7762 \n",
            "         CR-V        1.3626        1.3626        1.0000        1.3831        0.7339        1.3480 \n",
            "      Element        1.2354        1.2354        0.7230        1.0000        0.4292        0.8327 \n",
            "      Odyssey        1.8531        1.8531        1.3626        2.3300        1.0000        2.1398 \n",
            "        Pilot        1.2883        1.2883        0.7418        0.8327        0.4673        1.0000 \n",
            "\n",
            "Final results z_CI:\n",
            "Accord Hybrid: 0.1479\n",
            " Accord Sedan: 0.2587\n",
            "         CR-V: 0.1851\n",
            "      Element: 0.1317\n",
            "      Odyssey: 0.1955\n",
            "        Pilot: 0.0810\n"
          ]
        }
      ],
      "source": [
        "\n",
        "### Subproblem 1 ###\n",
        "# compute the cannonical weight vector\n",
        "weights = kappa(cost_criteria, method = \"scipy\")\n",
        "B_cost = [purchase_price, maintenance_cost, resale_value, fuel_cost]\n",
        "cost = aggregated_preference_matrix(B_cost, weights)\n",
        "\n",
        "print(\"Cost subproblem - aggregated matrix:\")\n",
        "print_named_matrix_or_vector(cost, car_names, car_names)\n",
        "\n",
        "### Subproblem 2 ###\n",
        "# compute the cannonical weight vector\n",
        "weights = kappa(capacity_criteria, method = \"scipy\")\n",
        "B_capacity = [passenger_capacity, cargo_capacity]\n",
        "capacity = aggregated_preference_matrix(B_capacity, weights)\n",
        "\n",
        "print(\"Capacity subproblem - aggregated matrix:\")\n",
        "print_named_matrix_or_vector(capacity, car_names, car_names)\n",
        "\n",
        "### Final solution ###\n",
        "# compute the cannonical weight vector\n",
        "weights = kappa(criteria, method = \"scipy\")\n",
        "B = [capacity, cost, safety, style]\n",
        "\n",
        "# aggregate list of pairwise comparison matrices for capacity, cost, safety, style\n",
        "aggregated_matrix = aggregated_preference_matrix(B, weights)\n",
        "\n",
        "# evaluate the final vector\n",
        "z_CI = kappa(aggregated_matrix, method = \"scipy\")\n",
        "\n",
        "\n",
        "print(\"Final results z_CI:\")\n",
        "print_named_matrix_or_vector(z_CI, car_names)"
      ]
    },
    {
      "cell_type": "markdown",
      "metadata": {
        "id": "p14p68wDk5S2"
      },
      "source": [
        "## Industrial application\n",
        "A textile manufacturing company in Italy seeks to optimize its supplier selection process using the Analytic Hierarchy Process (AHP) methodology to choose the best data analytics tool. The company's operations *span product development, manufacturing, sales, marketing, and overall management*. Key criteria for tool selection include *quality assurance, cost efficiency, delivery reliability, supplier reputation, and environmental impact*. Eight pre-screened tools are evaluated against these criteria. A decision-making group of three stakeholders (*supply chain analyst, market trend analyst, and sustainability auditor*) provides input, with their evaluations aggregated using AHP to ensure systematic, data-driven decision-making. Implementing the chosen tool involves significant costs in acquisition, infrastructure, training, and integration.\n",
        "\n",
        "More information can be found in **Section 5** of the referred paper."
      ]
    },
    {
      "cell_type": "markdown",
      "metadata": {
        "id": "RvG842JXFMAL"
      },
      "source": [
        "Definition:"
      ]
    },
    {
      "cell_type": "code",
      "execution_count": null,
      "metadata": {
        "colab": {
          "base_uri": "https://localhost:8080/"
        },
        "id": "MUZ3XaxAEyeG",
        "outputId": "6da3ce5d-3a9e-4689-80d5-9f906a4ee56e"
      },
      "outputs": [
        {
          "output_type": "stream",
          "name": "stdout",
          "text": [
            "Aggregated criteria matrix:\n",
            "   C1 C2 C3 C4 C5 \n",
            "C1 1.0000 3.7798 3.3019 4.8203 0.7937 \n",
            "C2 0.2646 1.0000 0.5429 0.6786 1.0000 \n",
            "C3 0.3029 1.8420 1.0000 1.1856 1.7100 \n",
            "C4 0.2075 1.4736 0.8434 1.0000 1.3050 \n",
            "C5 1.2599 1.0000 0.5848 0.7663 1.0000 \n",
            "\n"
          ]
        }
      ],
      "source": [
        "import numpy as np\n",
        "\n",
        "# Define criteria names\n",
        "cNames = [\"C1\", \"C2\", \"C3\", \"C4\", \"C5\"]\n",
        "\n",
        "# Define the matrices DM1, DM2, DM3\n",
        "DM1 = np.array([\n",
        "    [1, 3, 2, 4, 4],\n",
        "    [1/3, 1, 4, 5, 4],\n",
        "    [1/2, 1/4, 1, 1/6, 5],\n",
        "    [1/4, 1/5, 6, 1, 5],\n",
        "    [1/4, 1/4, 1/5, 1/5, 1]\n",
        "])\n",
        "\n",
        "DM2 = np.array([\n",
        "    [1, 3, 3, 4, 1],\n",
        "    [1/3, 1, 1/5, 1/4, 1/2],\n",
        "    [1/3, 5, 1, 2, 3],\n",
        "    [1/4, 4, 1/2, 1, 4],\n",
        "    [1, 2, 1/3, 1/4, 1]\n",
        "])\n",
        "\n",
        "DM3 = np.array([\n",
        "    [1, 6, 6, 7, 1/8],\n",
        "    [1/6, 1, 1/5, 1/4, 1/2],\n",
        "    [1/6, 5, 1, 5, 1/3],\n",
        "    [1/7, 4, 1/5, 1, 1/9],\n",
        "    [8, 2, 3, 9, 1]\n",
        "])\n",
        "\n",
        "# Compute the geometric mean of the input matrices\n",
        "DM = (DM1 * DM2 * DM3) ** (1/3)\n",
        "print(\"Aggregated criteria matrix:\" )\n",
        "print_named_matrix_or_vector(DM, cNames, cNames)\n",
        "\n",
        "# Define alternative names\n",
        "bNames = [\"AT1\", \"AT2\", \"AT3\", \"AT4\", \"AT5\", \"AT6\", \"AT7\", \"AT8\"]\n",
        "\n",
        "# Define the matrices B1, B2, B3, B4, B5\n",
        "B1 = np.array([\n",
        "    [1, 1/2, 1/8, 1/7, 2, 1/4, 1/6, 1/2],\n",
        "    [2, 1, 1/9, 1/6, 3, 1/2, 1/2, 1/2],\n",
        "    [8, 9, 1, 2, 9, 4, 3, 5],\n",
        "    [7, 6, 1/2, 1, 8, 3, 2, 6],\n",
        "    [1/2, 1/3, 1/9, 1/8, 1, 1/3, 1/6, 1/3],\n",
        "    [4, 2, 1/4, 1/3, 3, 1, 2, 2],\n",
        "    [6, 2, 1/3, 1/2, 6, 1/2, 1, 3],\n",
        "    [2, 2, 1/5, 1/6, 3, 1/2, 1/3, 1]\n",
        "])\n",
        "\n",
        "B2 = np.array([\n",
        "    [1, 1/2, 1/8, 1/7, 2, 1/4, 1/2, 1/2],\n",
        "    [2, 1, 1/9, 1/6, 3, 1/2, 1/2, 1/2],\n",
        "    [8, 9, 1, 2, 9, 4, 3, 5],\n",
        "    [7, 6, 1/2, 1, 8, 3, 2, 2],\n",
        "    [1/2, 1/3, 1/9, 1/8, 1, 1/3, 1/6, 1/3],\n",
        "    [4, 2, 1/4, 1/3, 3, 1, 2, 2],\n",
        "    [2, 2, 1/3, 1/2, 6, 1/2, 1, 1/6],\n",
        "    [2, 2, 1/5, 1/2, 3, 1/2, 6, 1]\n",
        "])\n",
        "\n",
        "B3 = np.array([\n",
        "    [1, 1/2, 1/8, 1/7, 2, 1/4, 1/2, 1/2],\n",
        "    [2, 1, 1/9, 1/6, 3, 1/2, 1/2, 1/2],\n",
        "    [8, 9, 1, 2, 9, 4, 3, 5],\n",
        "    [7, 6, 1/2, 1, 8, 3, 2, 2],\n",
        "    [1/2, 1/3, 1/9, 1/8, 1, 1/3, 1/6, 1/3],\n",
        "    [4, 2, 1/4, 1/3, 3, 1, 2, 2],\n",
        "    [2, 2, 1/3, 1/2, 6, 1/2, 1, 1/6],\n",
        "    [2, 2, 1/5, 1/2, 3, 1/2, 6, 1]\n",
        "])\n",
        "\n",
        "B4 = np.array([\n",
        "    [1, 1/2, 1/8, 1/7, 1/8, 1/4, 1/2, 1/2],\n",
        "    [2, 1, 1/4, 1/6, 1/3, 2, 2, 2],\n",
        "    [8, 4, 1, 2, 1/2, 4, 3, 5],\n",
        "    [7, 6, 1/2, 1, 1/3, 3, 2, 2],\n",
        "    [8, 3, 2, 3, 1, 6, 7, 8],\n",
        "    [4, 1/2, 1/4, 1/3, 1/6, 1, 2, 2],\n",
        "    [2, 1/2, 1/3, 1/2, 1/7, 1/2, 1, 1/6],\n",
        "    [2, 1/2, 1/5, 1/2, 1/8, 1/2, 6, 1]\n",
        "])\n",
        "\n",
        "B5 = np.array([\n",
        "    [1, 1/2, 1/8, 1/7, 2, 1/4, 1/2, 1/2],\n",
        "    [2, 1, 1/4, 1/2, 5, 2, 2, 3],\n",
        "    [8, 4, 1, 2, 8, 4, 3, 5],\n",
        "    [7, 2, 1/2, 1, 7, 3, 2, 2],\n",
        "    [1/2, 1/5, 1/8, 1/7, 1, 1/6, 1/7, 1/8],\n",
        "    [4, 1/2, 1/4, 1/3, 6, 1, 2, 2],\n",
        "    [2, 1/2, 1/3, 1/2, 7, 1/2, 1, 1/6],\n",
        "    [2, 1/3, 1/5, 1/2, 8, 1/2, 6, 1]\n",
        "])\n",
        "\n",
        "# Store matrices in a dictionary for easy access\n",
        "lB = [B1, B2, B3, B4, B5]"
      ]
    },
    {
      "cell_type": "markdown",
      "metadata": {
        "id": "AmUB3TcjFIe2"
      },
      "source": [
        "Solution:"
      ]
    },
    {
      "cell_type": "code",
      "execution_count": null,
      "metadata": {
        "colab": {
          "base_uri": "https://localhost:8080/"
        },
        "id": "-8zXvbhoFgK_",
        "outputId": "70924fba-8a37-4b8f-852f-9c3f7f8f95d5"
      },
      "outputs": [
        {
          "output_type": "stream",
          "name": "stdout",
          "text": [
            "Final results z_CI:\n",
            "AT1: 0.0457\n",
            "AT2: 0.0564\n",
            "AT3: 0.3656\n",
            "AT4: 0.1828\n",
            "AT5: 0.0630\n",
            "AT6: 0.0914\n",
            "AT7: 0.1219\n",
            "AT8: 0.0731\n"
          ]
        }
      ],
      "source": [
        "weights = kappa(DM)\n",
        "aggregated_matrix = aggregated_preference_matrix(lB, weights)\n",
        "z_CI = kappa(aggregated_matrix, method = \"scipy\")\n",
        "\n",
        "print(\"Final results z_CI:\")\n",
        "print_named_matrix_or_vector(z_CI, bNames)\n"
      ]
    },
    {
      "cell_type": "markdown",
      "source": [
        "## Experiment\n",
        "Numerical Comparison of Canonical Weight Vector and Principal Eigenvector. See Section 3.1 in the paper. To mimic our experiment, you have to set 100 bins and 500 matrices in each bin. **But this is very time consuming!**\n",
        "\n",
        "I. e.\n",
        "\n",
        "```\n",
        "# create a dictionay of matrices with various CR\n",
        "matrices = collect_pcm_matrices_for_cr_intervals(5, 100, 500)\n",
        "```\n",
        "\n"
      ],
      "metadata": {
        "id": "dmBX2JkbfC0S"
      }
    },
    {
      "cell_type": "code",
      "source": [
        "import numpy as np\n",
        "import random\n",
        "from collections import defaultdict\n",
        "\n",
        "def CR(A):\n",
        "    \"\"\"Calculates Consistency Ratio (CR) for matrix A.\"\"\"\n",
        "    k = A.shape[0]\n",
        "    CI = [0, 0, 0.52, 0.89, 1.11, 1.25, 1.35, 1.40, 1.45, 1.49]  # RI values for CR calculation\n",
        "    eigenvalues = np.linalg.eigvals(A)\n",
        "    lambda_max = np.max(np.real(eigenvalues))\n",
        "    return ((lambda_max - k) / (k - 1)) / CI[k-1]\n",
        "\n",
        "def generate_random_pcm(n):\n",
        "    \"\"\"Generates a random PCM matrix of size n with unit diagonal and reciprocity.\"\"\"\n",
        "    A = np.ones((n, n))\n",
        "    for i in range(n):\n",
        "        for j in range(i + 1, n):\n",
        "            random_value = random.choice([1, 2, 3, 4, 5, 6, 7, 8, 9, 1/2, 1/3, 1/4, 1/5, 1/6, 1/7, 1/8, 1/9])\n",
        "            A[i, j] = random_value\n",
        "            A[j, i] = 1 / random_value\n",
        "    return A\n",
        "\n",
        "def collect_pcm_matrices_for_cr_intervals(n, num_intervals=100, matrices_per_interval=5):\n",
        "    \"\"\"\n",
        "    Generates and collects PCM matrices with different Consistency Ratios (CR)\n",
        "    over specified intervals, covering the range [0, 1].\n",
        "\n",
        "    Parameters:\n",
        "    n (int): Dimension of the PCM matrix.\n",
        "    num_intervals (int): Number of CR intervals to cover.\n",
        "    matrices_per_interval (int): Target number of matrices per CR interval.\n",
        "\n",
        "    Returns:\n",
        "    dict: A dictionary where keys are CR interval bounds and values are lists of PCM matrices.\n",
        "    \"\"\"\n",
        "    cr_intervals = np.linspace(0, 1, num_intervals + 1)\n",
        "    matrices = defaultdict(list)\n",
        "\n",
        "    while any(len(matrices[interval]) < matrices_per_interval for interval in cr_intervals[:-1]):\n",
        "        # Generate a random PCM matrix\n",
        "        pcm_matrix = generate_random_pcm(n)\n",
        "\n",
        "        # Calculate CR and find the appropriate interval\n",
        "        cr_value = CR(pcm_matrix)\n",
        "        for i in range(num_intervals):\n",
        "            if cr_intervals[i] <= cr_value < cr_intervals[i + 1]:\n",
        "                interval_key = cr_intervals[i]\n",
        "\n",
        "                # Add matrix to the appropriate interval if there's room\n",
        "                if len(matrices[interval_key]) < matrices_per_interval:\n",
        "                    matrices[interval_key].append(pcm_matrix)\n",
        "                break\n",
        "\n",
        "    return matrices\n"
      ],
      "metadata": {
        "id": "gplQVxPpfKV5"
      },
      "execution_count": 89,
      "outputs": []
    },
    {
      "cell_type": "code",
      "source": [
        "import numpy as np\n",
        "from collections import defaultdict\n",
        "import matplotlib.pyplot as plt\n",
        "\n",
        "\n",
        "def analyze_matrices(matrices):\n",
        "    \"\"\"\n",
        "    Analyzes each matrix in each CR interval, calculating A2w and Kappa,\n",
        "    then checks if their maximum indices match.\n",
        "\n",
        "    Parameters:\n",
        "    matrices (dict): A dictionary where keys are CR intervals, and values are lists of PCM matrices.\n",
        "\n",
        "    Returns:\n",
        "    dict: A dictionary with CR intervals as keys and counts of matching max indices as values.\n",
        "    \"\"\"\n",
        "    match_counts = defaultdict(int)\n",
        "    total_counts = defaultdict(int)\n",
        "\n",
        "    for cr_interval, matrix_list in matrices.items():\n",
        "        for matrix in matrix_list:\n",
        "            # Calculate A2w and Kappa vectors\n",
        "            a2w_vector = A2w(matrix)\n",
        "            kappa_vector =  np.round(m_tilde_cdd(np.log(matrix)),5)\n",
        "\n",
        "            # Find index of the maximum element in each vector, there may be\n",
        "            # more maximum elements in kappa_vector\n",
        "            # Check if the indices match and record the result\n",
        "            if np.argmax(a2w_vector) in [i for i, v in enumerate(kappa_vector) if v == max(kappa_vector)]:\n",
        "                match_counts[cr_interval] += 1\n",
        "            total_counts[cr_interval] += 1\n",
        "\n",
        "    # Calculate success rate for each CR interval\n",
        "    success_rate = {cr: match_counts[cr] / total_counts[cr] for cr in match_counts}\n",
        "    return success_rate\n",
        "\n",
        "def plot_success_rate(success_rate):\n",
        "    \"\"\"\n",
        "    Plots the success rate (matching max indices) as a function of Consistency Ratio (CR).\n",
        "\n",
        "    Parameters:\n",
        "    success_rate (dict): Dictionary where keys are CR intervals and values are success rates.\n",
        "    \"\"\"\n",
        "    cr_values = sorted(success_rate.keys())\n",
        "    match_percentages = [success_rate[cr] * 100 for cr in cr_values]  # Percentualní hodnocení\n",
        "\n",
        "    plt.figure(figsize=(10, 6))\n",
        "    plt.plot(cr_values, match_percentages, marker='o')\n",
        "    plt.xlabel(\"Consistency Ratio (CR)\")\n",
        "    plt.ylabel(\"Relative Frequency (%)\")\n",
        "    plt.title(\"Relative Frequency of PCM with Canonical Weight Vector and \" +\n",
        "     \"Principal Eigenvector Sharing at Least One \" +\n",
        "     \"Best Trade-off Alternative\")\n",
        "    plt.grid(True)\n",
        "    plt.show()\n",
        "\n",
        "# create a dictionay of matrices with various CR\n",
        "matrices = collect_pcm_matrices_for_cr_intervals(5, 33, 20)\n",
        "\n",
        "# analyze and plot the success rate\n",
        "success_rate = analyze_matrices(matrices)\n",
        "\n",
        "# Plot the success rate\n",
        "plot_success_rate(success_rate)"
      ],
      "metadata": {
        "colab": {
          "base_uri": "https://localhost:8080/",
          "height": 564
        },
        "id": "VFSQQuPTfPBK",
        "outputId": "87a56b23-512a-4f7d-c246-7a8a90da4dd1"
      },
      "execution_count": 90,
      "outputs": [
        {
          "output_type": "display_data",
          "data": {
            "text/plain": [
              "<Figure size 1000x600 with 1 Axes>"
            ],
            "image/png": "[encoded data removed]"
          },
          "metadata": {}
        }
      ]
    }
  ],
  "metadata": {
    "colab": {
      "provenance": [],
      "toc_visible": true,
      "include_colab_link": true
    },
    "kernelspec": {
      "display_name": "Python 3",
      "name": "python3"
    },
    "language_info": {
      "name": "python"
    }
  },
  "nbformat": 4,
  "nbformat_minor": 0
}